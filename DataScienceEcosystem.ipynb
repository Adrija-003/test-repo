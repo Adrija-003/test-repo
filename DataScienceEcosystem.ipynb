{
 "cells": [
  {
   "cell_type": "markdown",
   "id": "f82f32e8-05c5-48d6-9ea0-d0ccd43bfba7",
   "metadata": {},
   "source": [
    "<h1>Data Science Tools and Ecosystem</h1>"
   ]
  },
  {
   "cell_type": "markdown",
   "id": "5a637018-cd27-464e-8d4c-8983f320c367",
   "metadata": {},
   "source": [
    "In this notebook, Data Science Tools and Ecosystem are summarized. The popular language used for Data Science is python. There are other languages such as R,Scala,Java,SQL,Java script,Julia,C++ and so on.\n"
   ]
  },
  {
   "cell_type": "markdown",
   "id": "6cba8744-3eb6-47fd-ab45-bafc8d0c0df1",
   "metadata": {},
   "source": [
    " The libraries used for Data Science are Python libraries,Scala libraries,R libraries."
   ]
  },
  {
   "cell_type": "markdown",
   "id": "ff8ec4f5-0ab9-46a2-b24d-7990225f71d8",
   "metadata": {},
   "source": [
    "## **Objectives**:\n",
    "  "
   ]
  },
  {
   "cell_type": "markdown",
   "id": "9a0e6874-3d97-407c-93e7-6b1b489df828",
   "metadata": {},
   "source": [
    "1. Data analyzing and visualizing data\n",
    "2. Optimization and decision making\n",
    "3. Exploring data\n",
    "4. Data refining and cleansing"
   ]
  },
  {
   "cell_type": "markdown",
   "id": "035bd34d-06dc-4c4e-8fcf-a3fd54932219",
   "metadata": {},
   "source": [
    "List popular languages for data science\n",
    "- python\n",
    "- R\n",
    "- SQL\n",
    "- Java\n",
    "- Julia\n"
   ]
  },
  {
   "cell_type": "markdown",
   "id": "36ee2a3b-5077-4902-8587-dae8bca219c8",
   "metadata": {},
   "source": [
    " Cloud based tools for Data Science are :\n",
    "- IBM Watson\n",
    "- Google cloud\n",
    "- Apache Hadoop\n",
    "- Informatica\n",
    "- CouchDB`"
   ]
  },
  {
   "cell_type": "markdown",
   "id": "5bb7861d-c3b7-4e7b-9565-666633538811",
   "metadata": {},
   "source": [
    " Some of the popular languages that Data Scientists use are :\n"
   ]
  },
  {
   "cell_type": "markdown",
   "id": "a64d9b4d-2b9a-4e77-9c85-24c08a317f89",
   "metadata": {},
   "source": [
    "##\n",
    "       1.Python\n",
    "       2.R\n",
    "       3.Java\n",
    "       4.SQL\n",
    "       5.C++"
   ]
  },
  {
   "cell_type": "markdown",
   "id": "64ea4b3d-5ef7-4b25-b306-7220393212c8",
   "metadata": {},
   "source": [
    " Some of the commonly used libraries used by Data Scientist include :\n",
    "       1.Pandas\n",
    "       2.NumPy\n",
    "       3.Matplotlip\n",
    "       4.SciKit-Learn\n",
    "       5.Tensorflow\n",
    "       "
   ]
  },
  {
   "cell_type": "markdown",
   "id": "dafdd064-44eb-4c17-918d-4e58716afa66",
   "metadata": {},
   "source": [
    "Open source tools used in Data Science are:"
   ]
  },
  {
   "cell_type": "markdown",
   "id": "b6f0e1f4-674c-4439-9cac-259180044bcf",
   "metadata": {},
   "source": [
    "|Data Science Tools|\n",
    "|------------------|\n",
    "| Tensorflow |\n",
    "| RStudio |\n",
    "| Apache Spark |"
   ]
  },
  {
   "cell_type": "markdown",
   "id": "a548bc85-5425-466a-ad9f-07da2a0c93a2",
   "metadata": {},
   "source": [
    "### Below are a few examples of evaluating arithmetic expressions in Python"
   ]
  },
  {
   "cell_type": "markdown",
   "id": "8fe21625-4eae-456a-ad4f-69a833df5fd2",
   "metadata": {},
   "source": [
    " This is a simple arithmetic expression to multiply then add integers"
   ]
  },
  {
   "cell_type": "code",
   "execution_count": 11,
   "id": "6d96aa05-4bb9-4f85-8146-d6cc92236068",
   "metadata": {
    "tags": []
   },
   "outputs": [
    {
     "data": {
      "text/plain": [
       "17"
      ]
     },
     "execution_count": 11,
     "metadata": {},
     "output_type": "execute_result"
    }
   ],
   "source": [
    "(3*4)+5"
   ]
  },
  {
   "cell_type": "markdown",
   "id": "d47019fd-f991-4cfb-8566-e7aa3f2a2d67",
   "metadata": {},
   "source": [
    "#### This will convert 200 minutes to hours by dividing by 60"
   ]
  },
  {
   "cell_type": "code",
   "execution_count": 15,
   "id": "631aa11e-9d5d-4984-9ee2-8cc261319303",
   "metadata": {
    "tags": []
   },
   "outputs": [
    {
     "name": "stdout",
     "output_type": "stream",
     "text": [
      "3.3333333333333335\n"
     ]
    }
   ],
   "source": [
    "#minutes = 200\n",
    "#hour = minutes/60\n",
    "print(hour)"
   ]
  },
  {
   "cell_type": "markdown",
   "id": "bf092123-d193-446b-8bda-a628a184f138",
   "metadata": {},
   "source": [
    "## Author\n",
    "   ADRIJA S"
   ]
  },
  {
   "cell_type": "code",
   "execution_count": null,
   "id": "26c4ce5a-c45d-4007-bb18-1f42da85cab5",
   "metadata": {},
   "outputs": [],
   "source": []
  }
 ],
 "metadata": {
  "kernelspec": {
   "display_name": "Python",
   "language": "python",
   "name": "conda-env-python-py"
  },
  "language_info": {
   "codemirror_mode": {
    "name": "ipython",
    "version": 3
   },
   "file_extension": ".py",
   "mimetype": "text/x-python",
   "name": "python",
   "nbconvert_exporter": "python",
   "pygments_lexer": "ipython3",
   "version": "3.7.12"
  },
  "toc-autonumbering": true,
  "toc-showmarkdowntxt": true,
  "toc-showtags": false
 },
 "nbformat": 4,
 "nbformat_minor": 5
}
